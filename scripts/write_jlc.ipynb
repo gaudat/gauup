{
 "cells": [
  {
   "cell_type": "code",
   "execution_count": 1,
   "id": "9e243267",
   "metadata": {},
   "outputs": [],
   "source": [
    "import xml.etree.ElementTree as ET"
   ]
  },
  {
   "cell_type": "code",
   "execution_count": 2,
   "id": "db73380a",
   "metadata": {},
   "outputs": [],
   "source": [
    "def read_sym_table(fn):\n",
    "    fd = ET.parse(fn)\n",
    "    ret = []\n",
    "    for c in fd.iter('comp'):\n",
    "        if c.find('fields') is None:\n",
    "            continue\n",
    "        fields = list(c.iter('field'))\n",
    "        fields = [(f.attrib.get(\"name\"), f.text) for f in fields]\n",
    "        fields = dict(fields)\n",
    "        c = [\n",
    "            c.attrib.get(\"ref\"),\n",
    "            c.find(\"value\").text,\n",
    "            c.find(\"footprint\").text,\n",
    "            fields[\"JLC P/N\"]\n",
    "        ]\n",
    "        c = [f.strip() for f in c]\n",
    "        ret.append(c)\n",
    "    return ret"
   ]
  },
  {
   "cell_type": "code",
   "execution_count": 3,
   "id": "34686845",
   "metadata": {},
   "outputs": [],
   "source": [
    "sym_table = read_sym_table(\"sman-openmv-link-pcb.xml\")\n",
    "sym_table = dict((l[0],l) for l in sym_table)"
   ]
  },
  {
   "cell_type": "code",
   "execution_count": 4,
   "id": "1627aa71",
   "metadata": {},
   "outputs": [
    {
     "data": {
      "text/plain": [
       "{'D57': ['D57', 'SS14', 'Diode_SMD:D_SMA', 'C2480'],\n",
       " 'F11': ['F11', '0.5A PTC', 'Fuse:Fuse_1206_3216Metric', 'C883123'],\n",
       " 'C14': ['C14',\n",
       "  '100uF',\n",
       "  'Capacitor_Tantalum_SMD:CP_EIA-3528-21_Kemet-B',\n",
       "  'C16133'],\n",
       " 'C11': ['C11',\n",
       "  '100uF',\n",
       "  'Capacitor_Tantalum_SMD:CP_EIA-3528-21_Kemet-B',\n",
       "  'C16133'],\n",
       " 'C13': ['C13',\n",
       "  '100uF',\n",
       "  'Capacitor_Tantalum_SMD:CP_EIA-3528-21_Kemet-B',\n",
       "  'C16133'],\n",
       " 'C10': ['C10',\n",
       "  '100uF',\n",
       "  'Capacitor_Tantalum_SMD:CP_EIA-3528-21_Kemet-B',\n",
       "  'C16133'],\n",
       " 'C12': ['C12',\n",
       "  '100uF',\n",
       "  'Capacitor_Tantalum_SMD:CP_EIA-3528-21_Kemet-B',\n",
       "  'C16133'],\n",
       " 'C9': ['C9',\n",
       "  '100uF',\n",
       "  'Capacitor_Tantalum_SMD:CP_EIA-3528-21_Kemet-B',\n",
       "  'C16133'],\n",
       " 'C8': ['C8',\n",
       "  '100uF',\n",
       "  'Capacitor_Tantalum_SMD:CP_EIA-3528-21_Kemet-B',\n",
       "  'C16133'],\n",
       " 'D56': ['D56', '3.3V ESD', 'Diode_SMD:D_SOD-323', 'C316020'],\n",
       " 'D55': ['D55', '3.3V ESD', 'Diode_SMD:D_SOD-323', 'C316020'],\n",
       " 'D54': ['D54', '3.3V ESD', 'Diode_SMD:D_SOD-323', 'C316020'],\n",
       " 'D53': ['D53', '3.3V ESD', 'Diode_SMD:D_SOD-323', 'C316020'],\n",
       " 'D11': ['D11', '3.3V ESD', 'Diode_SMD:D_SOD-323', 'C316020'],\n",
       " 'D13': ['D13', '3.3V ESD', 'Diode_SMD:D_SOD-323', 'C316020'],\n",
       " 'R1': ['R1', '120', 'Resistor_SMD:R_0402_1005Metric', 'C25079'],\n",
       " 'R2': ['R2', '120', 'Resistor_SMD:R_0402_1005Metric', 'C25079'],\n",
       " 'R3': ['R3', '120', 'Resistor_SMD:R_0402_1005Metric', 'C25079'],\n",
       " 'R4': ['R4', '120', 'Resistor_SMD:R_0402_1005Metric', 'C25079'],\n",
       " 'R8': ['R8', '120', 'Resistor_SMD:R_0402_1005Metric', 'C25079'],\n",
       " 'R7': ['R7', '120', 'Resistor_SMD:R_0402_1005Metric', 'C25079'],\n",
       " 'R6': ['R6', '120', 'Resistor_SMD:R_0402_1005Metric', 'C25079'],\n",
       " 'R5': ['R5', '120', 'Resistor_SMD:R_0402_1005Metric', 'C25079'],\n",
       " 'F10': ['F10', '0.05A PTC', 'Fuse:Fuse_1206_3216Metric', 'C369153'],\n",
       " 'F9': ['F9', '0.05A PTC', 'Fuse:Fuse_1206_3216Metric', 'C369153'],\n",
       " 'F5': ['F5', '0.05A PTC', 'Fuse:Fuse_1206_3216Metric', 'C369153'],\n",
       " 'F4': ['F4', '0.05A PTC', 'Fuse:Fuse_1206_3216Metric', 'C369153'],\n",
       " 'D52': ['D52', 'Green 20mA', 'LED_SMD:LED_0603_1608Metric', 'C12624'],\n",
       " 'D51': ['D51', 'Green 20mA', 'LED_SMD:LED_0603_1608Metric', 'C12624'],\n",
       " 'D48': ['D48', 'Green 20mA', 'LED_SMD:LED_0603_1608Metric', 'C12624'],\n",
       " 'D47': ['D47', 'Green 20mA', 'LED_SMD:LED_0603_1608Metric', 'C12624'],\n",
       " 'D50': ['D50', 'Green 20mA', 'LED_SMD:LED_0603_1608Metric', 'C12624'],\n",
       " 'D49': ['D49', 'Green 20mA', 'LED_SMD:LED_0603_1608Metric', 'C12624'],\n",
       " 'D46': ['D46', 'Green 20mA', 'LED_SMD:LED_0603_1608Metric', 'C12624'],\n",
       " 'D45': ['D45', 'Green 20mA', 'LED_SMD:LED_0603_1608Metric', 'C12624'],\n",
       " 'D44': ['D44', 'Green 20mA', 'LED_SMD:LED_0603_1608Metric', 'C12624'],\n",
       " 'D43': ['D43', 'Green 20mA', 'LED_SMD:LED_0603_1608Metric', 'C12624'],\n",
       " 'D40': ['D40', 'Green 20mA', 'LED_SMD:LED_0603_1608Metric', 'C12624'],\n",
       " 'D36': ['D36', 'Green 20mA', 'LED_SMD:LED_0603_1608Metric', 'C12624'],\n",
       " 'D32': ['D32', 'Green 20mA', 'LED_SMD:LED_0603_1608Metric', 'C12624'],\n",
       " 'D39': ['D39', 'Green 20mA', 'LED_SMD:LED_0603_1608Metric', 'C12624'],\n",
       " 'D35': ['D35', 'Green 20mA', 'LED_SMD:LED_0603_1608Metric', 'C12624'],\n",
       " 'D31': ['D31', 'Green 20mA', 'LED_SMD:LED_0603_1608Metric', 'C12624'],\n",
       " 'D28': ['D28', 'Green 20mA', 'LED_SMD:LED_0603_1608Metric', 'C12624'],\n",
       " 'D27': ['D27', 'Green 20mA', 'LED_SMD:LED_0603_1608Metric', 'C12624'],\n",
       " 'D42': ['D42', 'Green 20mA', 'LED_SMD:LED_0603_1608Metric', 'C12624'],\n",
       " 'D41': ['D41', 'Green 20mA', 'LED_SMD:LED_0603_1608Metric', 'C12624'],\n",
       " 'D38': ['D38', 'Green 20mA', 'LED_SMD:LED_0603_1608Metric', 'C12624'],\n",
       " 'D34': ['D34', 'Green 20mA', 'LED_SMD:LED_0603_1608Metric', 'C12624'],\n",
       " 'D30': ['D30', 'Green 20mA', 'LED_SMD:LED_0603_1608Metric', 'C12624'],\n",
       " 'D37': ['D37', 'Green 20mA', 'LED_SMD:LED_0603_1608Metric', 'C12624'],\n",
       " 'D33': ['D33', 'Green 20mA', 'LED_SMD:LED_0603_1608Metric', 'C12624'],\n",
       " 'D29': ['D29', 'Green 20mA', 'LED_SMD:LED_0603_1608Metric', 'C12624'],\n",
       " 'D26': ['D26', 'Green 20mA', 'LED_SMD:LED_0603_1608Metric', 'C12624'],\n",
       " 'D25': ['D25', 'Green 20mA', 'LED_SMD:LED_0603_1608Metric', 'C12624'],\n",
       " 'D24': ['D24', 'Green 20mA', 'LED_SMD:LED_0603_1608Metric', 'C12624'],\n",
       " 'D21': ['D21', 'Green 20mA', 'LED_SMD:LED_0603_1608Metric', 'C12624'],\n",
       " 'D18': ['D18', 'Green 20mA', 'LED_SMD:LED_0603_1608Metric', 'C12624'],\n",
       " 'D15': ['D15', 'Green 20mA', 'LED_SMD:LED_0603_1608Metric', 'C12624'],\n",
       " 'D23': ['D23', 'Green 20mA', 'LED_SMD:LED_0603_1608Metric', 'C12624'],\n",
       " 'D20': ['D20', 'Green 20mA', 'LED_SMD:LED_0603_1608Metric', 'C12624'],\n",
       " 'D17': ['D17', 'Green 20mA', 'LED_SMD:LED_0603_1608Metric', 'C12624'],\n",
       " 'D14': ['D14', 'Green 20mA', 'LED_SMD:LED_0603_1608Metric', 'C12624'],\n",
       " 'D22': ['D22', 'Green 20mA', 'LED_SMD:LED_0603_1608Metric', 'C12624'],\n",
       " 'D19': ['D19', 'Green 20mA', 'LED_SMD:LED_0603_1608Metric', 'C12624'],\n",
       " 'D16': ['D16', 'Green 20mA', 'LED_SMD:LED_0603_1608Metric', 'C12624'],\n",
       " 'D12': ['D12', 'Green 20mA', 'LED_SMD:LED_0603_1608Metric', 'C12624'],\n",
       " 'D9': ['D9', 'Green 20mA', 'LED_SMD:LED_0603_1608Metric', 'C12624'],\n",
       " 'D7': ['D7', 'Green 20mA', 'LED_SMD:LED_0603_1608Metric', 'C12624'],\n",
       " 'D5': ['D5', 'Green 20mA', 'LED_SMD:LED_0603_1608Metric', 'C12624'],\n",
       " 'D2': ['D2', 'Green 20mA', 'LED_SMD:LED_0603_1608Metric', 'C12624'],\n",
       " 'C7': ['C7', '100nF', 'Capacitor_SMD:C_0402_1005Metric', 'C1525'],\n",
       " 'C6': ['C6', '1uF', 'Capacitor_SMD:C_0402_1005Metric', 'C52923'],\n",
       " 'U2': ['U2', 'SiP32431DR3', 'Package_TO_SOT_SMD:SOT-363_SC-70-6', 'C141606'],\n",
       " 'C5': ['C5',\n",
       "  '100uF',\n",
       "  'Capacitor_Tantalum_SMD:CP_EIA-3528-21_Kemet-B',\n",
       "  'C16133'],\n",
       " 'U4': ['U4', 'SP3485EN', 'Package_SO:SOIC-8_3.9x4.9mm_P1.27mm', 'C8963'],\n",
       " 'C2': ['C2', '1uF', 'Capacitor_SMD:C_0402_1005Metric', 'C52923'],\n",
       " 'C4': ['C4', '100nF', 'Capacitor_SMD:C_0402_1005Metric', 'C1525'],\n",
       " 'U3': ['U3', 'SiP32431DR3', 'Package_TO_SOT_SMD:SOT-363_SC-70-6', 'C141606'],\n",
       " 'C3': ['C3', '100nF', 'Capacitor_SMD:C_0402_1005Metric', 'C1525'],\n",
       " 'C1': ['C1', '100nF', 'Capacitor_SMD:C_0402_1005Metric', 'C1525'],\n",
       " 'U1': ['U1', 'SP3485EN', 'Package_SO:SOIC-8_3.9x4.9mm_P1.27mm', 'C8963'],\n",
       " 'D3': ['D3', '5V ESD', 'Diode_SMD:D_SOD-323', 'C316020'],\n",
       " 'D1': ['D1', '3.3V ESD', 'Diode_SMD:D_SOD-323', 'C316020'],\n",
       " 'D4': ['D4', '3.3V ESD', 'Diode_SMD:D_SOD-323', 'C316020'],\n",
       " 'D6': ['D6', '3.3V ESD', 'Diode_SMD:D_SOD-323', 'C316020'],\n",
       " 'F3': ['F3', '0.05A PTC', 'Fuse:Fuse_1206_3216Metric', 'C369153'],\n",
       " 'F2': ['F2', '0.05A PTC', 'Fuse:Fuse_1206_3216Metric', 'C369153'],\n",
       " 'F1': ['F1', '0.5A PTC', 'Fuse:Fuse_1206_3216Metric', 'C883123'],\n",
       " 'J4': ['J4',\n",
       "  'OMV LEFT',\n",
       "  'Connector_PinHeader_2.54mm:PinHeader_1x08_P2.54mm_Vertical',\n",
       "  'C350308'],\n",
       " 'J5': ['J5',\n",
       "  'OMV RIGHT',\n",
       "  'Connector_PinHeader_2.54mm:PinHeader_1x08_P2.54mm_Vertical',\n",
       "  'C350308'],\n",
       " 'D8': ['D8', '3.3V ESD', 'Diode_SMD:D_SOD-323', 'C316020'],\n",
       " 'F8': ['F8', '0.05A PTC', 'Fuse:Fuse_1206_3216Metric', 'C369153'],\n",
       " 'F7': ['F7', '0.05A PTC', 'Fuse:Fuse_1206_3216Metric', 'C369153'],\n",
       " 'F6': ['F6', '0.5A PTC', 'Fuse:Fuse_1206_3216Metric', 'C883123'],\n",
       " 'D10': ['D10', '3.3V ESD', 'Diode_SMD:D_SOD-323', 'C316020'],\n",
       " 'U5': ['U5', 'SiP32431DR3', 'Package_TO_SOT_SMD:SOT-363_SC-70-6', 'C141606'],\n",
       " 'C15': ['C15', '1uF', 'Capacitor_SMD:C_0402_1005Metric', 'C52923']}"
      ]
     },
     "execution_count": 4,
     "metadata": {},
     "output_type": "execute_result"
    }
   ],
   "source": [
    "sym_table"
   ]
  },
  {
   "cell_type": "code",
   "execution_count": 5,
   "id": "f1f3315c",
   "metadata": {},
   "outputs": [],
   "source": [
    "def read_cpl(fn):\n",
    "    fd = open(fn).readlines()\n",
    "    fd = [[f.strip() for f in l.split()] for l in fd]\n",
    "    return fd"
   ]
  },
  {
   "cell_type": "code",
   "execution_count": 6,
   "id": "0aafa920",
   "metadata": {},
   "outputs": [],
   "source": [
    "bom_sym_def = [\n",
    "    [\"Comment\", 1],\n",
    "    [\"Designator\", 0],\n",
    "    [\"Footprint\", 2],\n",
    "    [\"LCSC Part #\", 3]\n",
    "]"
   ]
  },
  {
   "cell_type": "code",
   "execution_count": 24,
   "id": "8dbb8df7",
   "metadata": {},
   "outputs": [],
   "source": [
    "def write_jlc_bom(fn, sym_cpl):\n",
    "    with open(fn, \"w\") as f:\n",
    "        c = [x[0] for x in bom_sym_def]\n",
    "        f.write(\",\".join('\"'+x+'\"' for x in c))\n",
    "        f.write(\"\\n\")\n",
    "        print(sym_cpl[:10])\n",
    "        # Sort by LCSC part number\n",
    "        sym_cpl = sorted(sym_cpl, key=lambda x: x[3])\n",
    "        l_buf = sym_cpl[0].copy()\n",
    "        print(l_buf)\n",
    "        # Make designator field a set\n",
    "        l_buf[0] = set([l_buf[0]])\n",
    "        for c in sym_cpl:\n",
    "            if c[3] == l_buf[3]:\n",
    "                # Add designator to set\n",
    "                l_buf[0] |= set([c[0]])\n",
    "            else:\n",
    "                # Write line\n",
    "                fields = [\n",
    "                    l_buf[1],\n",
    "                    \",\".join(l_buf[0]),\n",
    "                    l_buf[2],\n",
    "                    l_buf[3]\n",
    "                ]\n",
    "                f.write(','.join('\"{}\"'.format(f) for f in fields))\n",
    "                f.write('\\n')\n",
    "                l_buf = c.copy()\n",
    "                l_buf[0] = set([l_buf[0]])\n",
    "            if c is sym_cpl[-1]:\n",
    "                fields = [\n",
    "                    l_buf[1],\n",
    "                    \",\".join(l_buf[0]),\n",
    "                    l_buf[2],\n",
    "                    l_buf[3]\n",
    "                ]\n",
    "                f.write(','.join('\"{}\"'.format(f) for f in fields))\n",
    "                f.write('\\n')\n",
    "                "
   ]
  },
  {
   "cell_type": "code",
   "execution_count": 12,
   "id": "e5897a97",
   "metadata": {},
   "outputs": [],
   "source": [
    "def write_jlc_cpl(fn, cpl, sym_table):\n",
    "    header = [\"Designator\", \"Mid X\", \"Mid Y\", \"Layer\", \"Rotation\"]\n",
    "    with open(fn, \"w\") as f:\n",
    "        f.write(','.join('\"{}\"'.format(x) for x in header))\n",
    "        f.write('\\n')\n",
    "        for c in cpl:\n",
    "            l = [cpl[c][i] for i in (0,3,4,6,5)]\n",
    "            l[3] = l[3].title()\n",
    "            f.write(','.join('\"{}\"'.format(x) for x in l))\n",
    "            f.write('\\n')"
   ]
  },
  {
   "cell_type": "code",
   "execution_count": 13,
   "id": "0ee20529",
   "metadata": {},
   "outputs": [],
   "source": [
    "def write_jlc(subfolder, cpl_fn_rel):\n",
    "    cpl = read_cpl(subfolder+\"/\"+cpl_fn_rel)    \n",
    "    cpl = [c for c in cpl if c[0][0] != '#']\n",
    "    cpl = dict([c[0], c] for c in cpl)\n",
    "    sym_cpl = [sym_table[k] for k in cpl]\n",
    "    write_jlc_bom(subfolder+\"/jlc_bom.csv\", sym_cpl)\n",
    "    write_jlc_cpl(subfolder+\"/jlc_cpl.csv\", cpl, sym_table)"
   ]
  },
  {
   "cell_type": "code",
   "execution_count": 25,
   "id": "30d34a92",
   "metadata": {},
   "outputs": [
    {
     "name": "stdout",
     "output_type": "stream",
     "text": [
      "[['C3', '100nF', 'Capacitor_SMD:C_0402_1005Metric', 'C1525'], ['C5', '100uF', 'Capacitor_Tantalum_SMD:CP_EIA-3528-21_Kemet-B', 'C16133'], ['C6', '1uF', 'Capacitor_SMD:C_0402_1005Metric', 'C52923'], ['C7', '100nF', 'Capacitor_SMD:C_0402_1005Metric', 'C1525'], ['C8', '100uF', 'Capacitor_Tantalum_SMD:CP_EIA-3528-21_Kemet-B', 'C16133'], ['C9', '100uF', 'Capacitor_Tantalum_SMD:CP_EIA-3528-21_Kemet-B', 'C16133'], ['C10', '100uF', 'Capacitor_Tantalum_SMD:CP_EIA-3528-21_Kemet-B', 'C16133'], ['C11', '100uF', 'Capacitor_Tantalum_SMD:CP_EIA-3528-21_Kemet-B', 'C16133'], ['C12', '100uF', 'Capacitor_Tantalum_SMD:CP_EIA-3528-21_Kemet-B', 'C16133'], ['C13', '100uF', 'Capacitor_Tantalum_SMD:CP_EIA-3528-21_Kemet-B', 'C16133']]\n",
      "['D2', 'Green 20mA', 'LED_SMD:LED_0603_1608Metric', 'C12624']\n"
     ]
    }
   ],
   "source": [
    "write_jlc(\"fab_openmv\", \"link_openmv.pos\")"
   ]
  },
  {
   "cell_type": "code",
   "execution_count": 26,
   "id": "4976d827",
   "metadata": {},
   "outputs": [
    {
     "name": "stdout",
     "output_type": "stream",
     "text": [
      "[['C1', '100nF', 'Capacitor_SMD:C_0402_1005Metric', 'C1525'], ['C2', '1uF', 'Capacitor_SMD:C_0402_1005Metric', 'C52923'], ['C4', '100nF', 'Capacitor_SMD:C_0402_1005Metric', 'C1525'], ['C15', '1uF', 'Capacitor_SMD:C_0402_1005Metric', 'C52923'], ['D1', '3.3V ESD', 'Diode_SMD:D_SOD-323', 'C316020'], ['D3', '5V ESD', 'Diode_SMD:D_SOD-323', 'C316020'], ['D4', '3.3V ESD', 'Diode_SMD:D_SOD-323', 'C316020'], ['D6', '3.3V ESD', 'Diode_SMD:D_SOD-323', 'C316020'], ['F1', '0.5A PTC', 'Fuse:Fuse_1206_3216Metric', 'C883123'], ['F2', '0.05A PTC', 'Fuse:Fuse_1206_3216Metric', 'C369153']]\n",
      "['U3', 'SiP32431DR3', 'Package_TO_SOT_SMD:SOT-363_SC-70-6', 'C141606']\n"
     ]
    }
   ],
   "source": [
    "write_jlc(\"fab_swash\", \"link_swash.pos\")"
   ]
  },
  {
   "cell_type": "code",
   "execution_count": null,
   "id": "3dc75690",
   "metadata": {},
   "outputs": [],
   "source": []
  }
 ],
 "metadata": {
  "kernelspec": {
   "display_name": "Python 3",
   "language": "python",
   "name": "python3"
  },
  "language_info": {
   "codemirror_mode": {
    "name": "ipython",
    "version": 3
   },
   "file_extension": ".py",
   "mimetype": "text/x-python",
   "name": "python",
   "nbconvert_exporter": "python",
   "pygments_lexer": "ipython3",
   "version": "3.7.4"
  }
 },
 "nbformat": 4,
 "nbformat_minor": 5
}
