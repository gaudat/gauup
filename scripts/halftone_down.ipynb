{
 "cells": [
  {
   "cell_type": "code",
   "execution_count": 1,
   "id": "00c8d6ad",
   "metadata": {},
   "outputs": [],
   "source": [
    "import PIL\n",
    "import numpy as np"
   ]
  },
  {
   "cell_type": "code",
   "execution_count": 2,
   "id": "907c83ca",
   "metadata": {},
   "outputs": [],
   "source": [
    "import matplotlib.pyplot as plt"
   ]
  },
  {
   "cell_type": "code",
   "execution_count": 10,
   "id": "988895d3",
   "metadata": {},
   "outputs": [],
   "source": [
    "def halftone(img_arr):\n",
    "    img = PIL.Image.fromarray(img_arr)\n",
    "    img = img.convert('1')\n",
    "    return np.asarray(img)"
   ]
  },
  {
   "cell_type": "code",
   "execution_count": 102,
   "id": "12eb61aa",
   "metadata": {},
   "outputs": [],
   "source": [
    "def main_arr(img_arr, qtree_level=0, x_index=0, y_index=0):\n",
    "    if qtree_level == 0:\n",
    "        return halftone(img_arr)\n",
    "    \n",
    "    midpoint_y = int(img_arr.shape[0] / 2)\n",
    "    midpoint_x = int(img_arr.shape[1] / 2)\n",
    "    lu = img_arr[:midpoint_y, :midpoint_x]\n",
    "    ru = img_arr[midpoint_y:, :midpoint_x]\n",
    "    ll = img_arr[:midpoint_y, midpoint_x:]\n",
    "    rl = img_arr[midpoint_y:, midpoint_x:]\n",
    "\n",
    "    lut = {\n",
    "        (0, 0): lu,\n",
    "        (0, 1): ll,\n",
    "        (1, 0): ru,\n",
    "        (1, 1): rl\n",
    "    }\n",
    "    \n",
    "    if qtree_level == 1:\n",
    "        return halftone(lut[(x_index, y_index)])\n",
    "    \n",
    "    if qtree_level > 1:\n",
    "        qtree_level -= 1\n",
    "        xi = 1 if x_index & (1 << qtree_level) else 0\n",
    "        yi = 1 if y_index & (1 << qtree_level) else 0\n",
    "        print(x_index, y_index, xi, yi)\n",
    "        return main_arr(lut[(xi, yi)], qtree_level, x_index - (xi << qtree_level), y_index - (yi << qtree_level))"
   ]
  },
  {
   "cell_type": "code",
   "execution_count": 103,
   "id": "96e9c82c",
   "metadata": {},
   "outputs": [],
   "source": [
    "def main(in_fn, qtree_level=0, x_index=0, y_index=0):\n",
    "    img = PIL.Image.open(in_fn)\n",
    "    arr = np.asarray(img).copy()\n",
    "    orig_shape = arr.shape\n",
    "    transparent_pixels = arr[..., 3]\n",
    "    arr[transparent_pixels == 0] = [255, 255, 255, 255]\n",
    "    arr = arr.reshape(orig_shape)\n",
    "    ret = main_arr(arr, qtree_level, x_index, y_index)\n",
    "    return PIL.Image.fromarray(ret)"
   ]
  },
  {
   "cell_type": "code",
   "execution_count": 113,
   "id": "8fa052a5",
   "metadata": {},
   "outputs": [
    {
     "name": "stdout",
     "output_type": "stream",
     "text": [
      "0 0 0 0\n",
      "0 1 0 0\n",
      "0 2 0 1\n",
      "0 3 0 1\n",
      "1 0 0 0\n",
      "1 1 0 0\n",
      "1 2 0 1\n",
      "1 3 0 1\n",
      "2 0 1 0\n",
      "2 1 1 0\n",
      "2 2 1 1\n",
      "2 3 1 1\n",
      "3 0 1 0\n",
      "3 1 1 0\n",
      "3 2 1 1\n",
      "3 3 1 1\n"
     ]
    }
   ],
   "source": [
    "for x in range(4):\n",
    "    for y in range(4):\n",
    "        ret = main(\"./CharaStudio-2021-11-13-16-42-14-Render.png\", 2, x, y)\n",
    "        ret.save(\"./burn_{}_{}.png\".format(y, x))"
   ]
  },
  {
   "cell_type": "code",
   "execution_count": 114,
   "id": "932018bf",
   "metadata": {},
   "outputs": [],
   "source": [
    "main(\"./CharaStudio-2021-11-13-16-42-14-Render.png\").save(\"./burn_full.png\")"
   ]
  },
  {
   "cell_type": "code",
   "execution_count": null,
   "id": "930b3057",
   "metadata": {},
   "outputs": [],
   "source": []
  }
 ],
 "metadata": {
  "kernelspec": {
   "display_name": "Python 3",
   "language": "python",
   "name": "python3"
  },
  "language_info": {
   "codemirror_mode": {
    "name": "ipython",
    "version": 3
   },
   "file_extension": ".py",
   "mimetype": "text/x-python",
   "name": "python",
   "nbconvert_exporter": "python",
   "pygments_lexer": "ipython3",
   "version": "3.7.4"
  }
 },
 "nbformat": 4,
 "nbformat_minor": 5
}
